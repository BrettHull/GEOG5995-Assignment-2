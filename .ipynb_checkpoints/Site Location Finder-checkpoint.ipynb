{
 "cells": [
  {
   "cell_type": "markdown",
   "metadata": {},
   "source": [
    "# Site Location Finder"
   ]
  },
  {
   "cell_type": "markdown",
   "metadata": {},
   "source": [
    "## Import packages"
   ]
  },
  {
   "cell_type": "code",
   "execution_count": 24,
   "metadata": {},
   "outputs": [],
   "source": [
    "# Import statements\n",
    "import sys\n",
    "from rasterio.plot import show\n",
    "import ipywidgets as widgets\n",
    "from IPython.display import display\n",
    "from IPython.display import clear_output"
   ]
  },
  {
   "cell_type": "markdown",
   "metadata": {},
   "source": [
    "## Function Declarations\n",
    "\n",
    "The next section of the code involves the declaration of the functions that are used within.\n",
    "\n",
    "### readFile function\n",
    "\n",
    "This function takes a file name as an argument and loops through each line in the file, returning the file to the variable which calls the function."
   ]
  },
  {
   "cell_type": "code",
   "execution_count": 2,
   "metadata": {},
   "outputs": [],
   "source": [
    "def readFile(file):\n",
    "    '''\n",
    "    Reads a file.\n",
    "\n",
    "    :param file: The name of the file as it appears in the directory\n",
    "    :return: returns the file that has been read into a list \n",
    "    '''\n",
    "    # Creates fileList\n",
    "    fileList = []\n",
    "    # Opens the file\n",
    "    f = open(file)\n",
    "    # A loop which runs through each line in the file and adds them to the rowList list and then into the fileList\n",
    "    for line in f:\n",
    "        parsedLine = str.split(line,\",\")\n",
    "        rowList = []\n",
    "        for value in parsedLine:\n",
    "            rowList.append(float(value))\n",
    "        fileList.append(rowList)\n",
    "    # Closes the file\n",
    "    f.close()\n",
    "    return fileList"
   ]
  },
  {
   "cell_type": "markdown",
   "metadata": {},
   "source": [
    "### Processing and calculations \n",
    "\n",
    "The normaliseWeightings function takes in the individual weights set by the user for Geology, Popultion and Transportation and then normalises them so they add up to 1. This prevents the scores from exceeding 255 so that the map is plotted correctly. \n",
    "\n",
    "The method also uses an If statement to prevent the user from submiting a total weight value for all three attributes of 0. It prints an error message if this occurs and returns default weights of 50 for each attribute.\n",
    "\n",
    "If the user assigns valid weights, the function normalises the weights by adding up the total weights and then dividing each weight by the total weight to create a decimal which totals to 1."
   ]
  },
  {
   "cell_type": "code",
   "execution_count": 35,
   "metadata": {},
   "outputs": [],
   "source": [
    "def normaliseWeights(geologyWeight, populationWeight, transportationWeight):\n",
    "    '''\n",
    "    Normalises the weights which are passed to it by the processData method. Tests to see if the values are all zero\n",
    "    and prints an error message and returns the weights to a default value if so. If the values are not all zeroes, then\n",
    "    the method normalises the weights, ensuring they add up to a total of 1.\n",
    "\n",
    "    :param geologyWeight: The value of the weight assigned to the geology attribute\n",
    "    :param populationWeight: The value of the weight assigned to the population attribute\n",
    "    :param transportationWeight: The value of the weight assigned to the transportation attribute\n",
    "    :return: returns the normalised weights or the default values if the arguments given are all 0.\n",
    "    '''\n",
    "    # Tests to see if all of the weights are set to 0. If so, it resets the weights to defaults and prints an error\n",
    "    if geologyWeight == 0 and populationWeight == 0 and transportationWeight == 0:\n",
    "        print('Error: Cannot create plot with all weight values set to 0. Values returned to default.' + \n",
    "              'Please try again')\n",
    "        geologyWeight = 50\n",
    "        populationWeight= 50\n",
    "        transportationWeight = 50\n",
    "        geoSlide.value = geologyWeight\n",
    "        popSlide.value = populationWeight\n",
    "        tranSlide.value = transportationWeigh\n",
    "        return geologyWeight, populationWeight, transportationWeight\n",
    "    else:\n",
    "        # Normalise weights by adding up the weights and the dividing each weight by the total.\n",
    "        total = geologyWeight + populationWeight + transportationWeight\n",
    "        geologyWeight = geologyWeight / total\n",
    "        populationWeight = populationWeight / total\n",
    "        transportationWeight = transportationWeight / total\n",
    "        return geologyWeight, populationWeight, transportationWeight"
   ]
  },
  {
   "cell_type": "markdown",
   "metadata": {},
   "source": [
    "The processData function takes in the weights as an argument, then calls the normaliseWeights functions on the weights passed to it. It then creates a combined list of the values of each attribute for each area on the map and multiplies it by the relevant normalised weights. The combined weights are then added together and fed into the combined list. The combined list is then returned.  "
   ]
  },
  {
   "cell_type": "code",
   "execution_count": 4,
   "metadata": {},
   "outputs": [],
   "source": [
    "def processData(geologyWeight, populationWeight, transportationWeight):\n",
    "    '''\n",
    "    Creates a combinedlist which combines the values for each location in the raster files factoring in the weights\n",
    "    assigned\n",
    "\n",
    "    :param geologyWeight: The value of the weight assigned to the geology attribute\n",
    "    :param populationWeight: The value of the weight assigned to the population attribute\n",
    "    :param transportationWeight: The value of the weight assigned to the transportation attribute\n",
    "    :return: returns the combinedList\n",
    "    '''\n",
    "    # Calls the normaliseWeights function on each weight\n",
    "    geologyWeight, populationWeight, transportationWeight = normaliseWeights(geologyWeight, populationWeight, transportationWeight)\n",
    "    # Creates the combinedList list\n",
    "    combinedList = []\n",
    "    # Loops through each location in the raster files and multiplies each value by the relevant weight. This is added to\n",
    "    # the combinedList\n",
    "    for i in range(0, 529):\n",
    "        rowList = []\n",
    "        for j in range(0, 334):\n",
    "            geoVal = geologyList[i][j] * geologyWeight\n",
    "            popVal = populationList[i][j] * populationWeight\n",
    "            transVal = transportationList[i][j] * transportationWeight\n",
    "            totalVal = geoVal + popVal + transVal\n",
    "            rowList.append(totalVal)\n",
    "        combinedList.append(rowList)\n",
    "    return combinedList"
   ]
  },
  {
   "cell_type": "markdown",
   "metadata": {},
   "source": [
    "### Action methods\n",
    "\n",
    "The onUpdateButtonClicked and onOutputButtonClicked functions are functions that activate when the relevant buttons in the GUI are clicked. \n",
    "\n",
    "The onUpdateButtonClicked function clears the current plot and then calculates a new plot based on the weights assigned via the sliders in the GUI. \n",
    "\n",
    "The onOutputButtonClicked function opens an output file named 'output.txt' and writes the results from the combinedList into the output file. "
   ]
  },
  {
   "cell_type": "code",
   "execution_count": 5,
   "metadata": {},
   "outputs": [],
   "source": [
    "def onUpdateButtonClicked(b):\n",
    "    '''\n",
    "    Clears the output and calls the processData function to redraw the plot based on weights taken from the sliders.\n",
    "    This also displays the GUI.\n",
    "    '''\n",
    "    clear_output()\n",
    "    cList = processData(geoSlide.value, popSlide.value, tranSlide.value)    \n",
    "    show(cList, cmap='gray')\n",
    "    display(popSlide, geoSlide, tranSlide, updateButton, outputButton)\n",
    "    \n",
    "def onOutputButtonClicked(b): \n",
    "    '''\n",
    "    Opens an output file and saves the raster data, which makes up the current plot showing in the system, into\n",
    "    the output file and then closes it\n",
    "    '''\n",
    "    outputFile = open(\"output.txt\", \"w\")\n",
    "    outputFile.write(str(cList))\n",
    "    outputFile.close()"
   ]
  },
  {
   "cell_type": "markdown",
   "metadata": {},
   "source": [
    "## Variable Declaration\n",
    "\n",
    "The geologyFile, populationFile and transportationFile variables store the file names of the raster data which are stored in the same directory as this notebook.\n",
    "\n",
    "The geologyList, populationList and transportationList variables call the readFile method on the relevant files and store the values once they have been read. "
   ]
  },
  {
   "cell_type": "code",
   "execution_count": 6,
   "metadata": {},
   "outputs": [],
   "source": [
    "# Variables that store file names\n",
    "geologyFile = 'best.geology.txt'\n",
    "populationFile = 'best.pop.txt'\n",
    "transportationFile = 'best.mway.txt'"
   ]
  },
  {
   "cell_type": "code",
   "execution_count": 7,
   "metadata": {},
   "outputs": [],
   "source": [
    "# Function calls to read relevant files and store them into lists\n",
    "geologyList = readFile(geologyFile)\n",
    "populationList = readFile(populationFile)\n",
    "transportationList = readFile(transportationFile)"
   ]
  },
  {
   "cell_type": "markdown",
   "metadata": {},
   "source": [
    "## Graphical User Interface\n",
    "\n",
    "The popSlide, geoSlide and tranSlide are variable names for the three weight sliders that are shown in the GUI. They are set to a value of 50 by default but can be set to any integer between 0 and 100. \n",
    "\n",
    "The updateButton and outputButton variables store the buttons shown in the GUI which call the onUpdateButtonClicked and onOutputButtonClicked functions respectively. "
   ]
  },
  {
   "cell_type": "code",
   "execution_count": 32,
   "metadata": {},
   "outputs": [],
   "source": [
    "# Variables to create and store components of the Graphical User Interface\n",
    "popSlide =  widgets.IntSlider(min = 0, max = 100, value = 50, description = 'Population')\n",
    "geoSlide = widgets.IntSlider(min = 0, max = 100, value = 50, description = 'Geology')\n",
    "tranSlide = widgets.IntSlider(min = 0, max = 100, value = 50, description = 'Transport')\n",
    "updateButton = widgets.Button(description=\"Update\")\n",
    "outputButton = widgets.Button(description=\"Save Output\")"
   ]
  },
  {
   "cell_type": "markdown",
   "metadata": {},
   "source": [
    "## Results\n",
    "\n",
    "This section dispays the results of the program and is where the GUI can be seen. The code below calls the processData functions and shows the map and displays the GUI componenents and sets the listeners. "
   ]
  },
  {
   "cell_type": "code",
   "execution_count": 33,
   "metadata": {},
   "outputs": [
    {
     "data": {
      "image/png": "[encoded data removed]",
      "text/plain": [
       "<Figure size 432x288 with 1 Axes>"
      ]
     },
     "metadata": {
      "needs_background": "light"
     },
     "output_type": "display_data"
    },
    {
     "data": {
      "application/vnd.jupyter.widget-view+json": {
       "model_id": "b06007b492f845cc88590997690f271b",
       "version_major": 2,
       "version_minor": 0
      },
      "text/plain": [
       "IntSlider(value=50, description='Population')"
      ]
     },
     "metadata": {},
     "output_type": "display_data"
    },
    {
     "data": {
      "application/vnd.jupyter.widget-view+json": {
       "model_id": "a1dc18b7873d43329fc06a5bbffca5d7",
       "version_major": 2,
       "version_minor": 0
      },
      "text/plain": [
       "IntSlider(value=50, description='Geology')"
      ]
     },
     "metadata": {},
     "output_type": "display_data"
    },
    {
     "data": {
      "application/vnd.jupyter.widget-view+json": {
       "model_id": "387f121795fd4bffaa741789ac3708f0",
       "version_major": 2,
       "version_minor": 0
      },
      "text/plain": [
       "IntSlider(value=50, description='Transport')"
      ]
     },
     "metadata": {},
     "output_type": "display_data"
    },
    {
     "data": {
      "application/vnd.jupyter.widget-view+json": {
       "model_id": "2d090865b80a43af8f30f220972f7dcc",
       "version_major": 2,
       "version_minor": 0
      },
      "text/plain": [
       "Button(description='Update', style=ButtonStyle())"
      ]
     },
     "metadata": {},
     "output_type": "display_data"
    },
    {
     "data": {
      "application/vnd.jupyter.widget-view+json": {
       "model_id": "1c20d9f5dfbe495dae15ccf4e843ff2d",
       "version_major": 2,
       "version_minor": 0
      },
      "text/plain": [
       "Button(description='Save Output', style=ButtonStyle())"
      ]
     },
     "metadata": {},
     "output_type": "display_data"
    }
   ],
   "source": [
    "# Initial call of the processData method\n",
    "cList = processData(geoSlide.value, popSlide.value, tranSlide.value) \n",
    "# Generates plot based on cList which is the combinedList\n",
    "show(cList, cmap='gray')\n",
    "#Initial call to display GUI components\n",
    "display(popSlide, geoSlide, tranSlide, updateButton, outputButton)\n",
    "updateButton.on_click(onUpdateButtonClicked)\n",
    "outputButton.on_click(onOutputButtonClicked)"
   ]
  }
 ],
 "metadata": {
  "kernelspec": {
   "display_name": "Python 3",
   "language": "python",
   "name": "python3"
  },
  "language_info": {
   "codemirror_mode": {
    "name": "ipython",
    "version": 3
   },
   "file_extension": ".py",
   "mimetype": "text/x-python",
   "name": "python",
   "nbconvert_exporter": "python",
   "pygments_lexer": "ipython3",
   "version": "3.7.3"
  }
 },
 "nbformat": 4,
 "nbformat_minor": 2
}
