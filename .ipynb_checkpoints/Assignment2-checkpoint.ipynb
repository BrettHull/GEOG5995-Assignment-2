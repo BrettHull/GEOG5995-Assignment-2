{
 "cells": [
  {
   "cell_type": "markdown",
   "metadata": {},
   "source": [
    "# Assignment 2"
   ]
  },
  {
   "cell_type": "markdown",
   "metadata": {},
   "source": [
    "## Import packages"
   ]
  },
  {
   "cell_type": "code",
   "execution_count": 1,
   "metadata": {},
   "outputs": [],
   "source": [
    "# Import statements\n",
    "import sys\n",
    "from rasterio.plot import show\n",
    "import ipywidgets as widgets\n",
    "from IPython.display import display\n",
    "from IPython.display import clear_output"
   ]
  },
  {
   "cell_type": "markdown",
   "metadata": {},
   "source": [
    "## Import data"
   ]
  },
  {
   "cell_type": "code",
   "execution_count": 2,
   "metadata": {},
   "outputs": [],
   "source": [
    "# Method which reads a file\n",
    "def readFile(file):\n",
    "    fileList = []\n",
    "    f = open(file)\n",
    "    for line in f:\n",
    "        parsedLine = str.split(line,\",\")\n",
    "        rowList = []\n",
    "        for value in parsedLine:\n",
    "            rowList.append(float(value))\n",
    "        fileList.append(rowList)\n",
    "    f.close()\n",
    "    return fileList"
   ]
  },
  {
   "cell_type": "code",
   "execution_count": 3,
   "metadata": {},
   "outputs": [],
   "source": [
    "# Variables that store file names\n",
    "geologyFile = 'best.geology.txt'\n",
    "populationFile = 'best.pop.txt'\n",
    "transportationFile = 'best.mway.txt'"
   ]
  },
  {
   "cell_type": "code",
   "execution_count": 4,
   "metadata": {},
   "outputs": [],
   "source": [
    "# Method calls to read relevant files\n",
    "geologyList = readFile(geologyFile)\n",
    "populationList = readFile(populationFile)\n",
    "transportationList = readFile(transportationFile)"
   ]
  },
  {
   "cell_type": "markdown",
   "metadata": {},
   "source": [
    "## Processing Data"
   ]
  },
  {
   "cell_type": "code",
   "execution_count": 5,
   "metadata": {},
   "outputs": [],
   "source": [
    "# Functions to do all of the above\n",
    "def normaliseWeightings(geologyWeight, populationWeight, transportationWeight):\n",
    "      \n",
    "    if geologyWeight == 0 and populationWeight == 0 and transportationWeight == 0:\n",
    "        print('Error: Cannot create plot with all weight values set to 0. Values returned to default.' + \n",
    "              'Please try again')\n",
    "        geologyWeight = 50\n",
    "        populationWeight= 50\n",
    "        transportationWeight = 50\n",
    "        geoSlide.value = geologyWeight\n",
    "        popSlide.value = populationWeight\n",
    "        tranSlide.value = transportationWeigh\n",
    "        return geologyWeight, populationWeight, transportationWeight\n",
    "    else:\n",
    "        # Normalise weightings\n",
    "        total = geologyWeight + populationWeight + transportationWeight\n",
    "        geologyWeight = geologyWeight / total\n",
    "        populationWeight = populationWeight / total\n",
    "        transportationWeight = transportationWeight / total\n",
    "        return geologyWeight, populationWeight, transportationWeight\n",
    "\n",
    "def processData(geologyWeight, populationWeight, transportationWeight):\n",
    "    geologyWeight, populationWeight, transportationWeight = normaliseWeightings(geologyWeight, populationWeight, transportationWeight)\n",
    "    # Merge the lists together\n",
    "    combinedList = []\n",
    "    for i in range(0, 529):\n",
    "        rowList = []\n",
    "        for j in range(0, 334):\n",
    "            geoVal = geologyList[i][j] * geologyWeight\n",
    "            popVal = populationList[i][j] * populationWeight\n",
    "            transVal = transportationList[i][j] * transportationWeight\n",
    "            totalVal = geoVal + popVal + transVal\n",
    "            rowList.append(totalVal)\n",
    "        combinedList.append(rowList)\n",
    "    return combinedList"
   ]
  },
  {
   "cell_type": "code",
   "execution_count": 6,
   "metadata": {},
   "outputs": [],
   "source": [
    "popSlide = widgets.IntSlider(min=0, max=100, value = 50, description='Population')\n",
    "geoSlide = widgets.IntSlider(min=0, max=100, value = 50, description='Geology')\n",
    "tranSlide = widgets.IntSlider(min=0, max=100, value = 50, description='Transportation')\n",
    "updateButton = widgets.Button(description=\"Update\")\n",
    "outputButton = widgets.Button(description=\"Save Output\")\n",
    "highlightButton = widgets.Button(description=\"Blue Highlight\")\n",
    "output = widgets.Output()"
   ]
  },
  {
   "cell_type": "code",
   "execution_count": 7,
   "metadata": {},
   "outputs": [],
   "source": [
    "def on_updateButton_clicked(b):\n",
    "    clear_output()\n",
    "    cList = processData(geoSlide.value, popSlide.value, tranSlide.value)    \n",
    "    show(cList, cmap='gray')\n",
    "    display(popSlide, geoSlide, tranSlide, updateButton, outputButton, highlightButton)\n",
    "    \n",
    "def on_outputButton_clicked(b): \n",
    "    outputFile = open(\"output.txt\", \"w\")\n",
    "    outputFile.write(str(cList))\n",
    "    outputFile.close() \n",
    "    \n",
    "def on_highlightButton_clicked(b):\n",
    "    clear_output()\n",
    "    \n",
    "    print(\"clicked\")\n",
    " \n",
    "    "
   ]
  },
  {
   "cell_type": "code",
   "execution_count": 9,
   "metadata": {},
   "outputs": [
    {
     "ename": "TypeError",
     "evalue": "publish() got an unexpected keyword argument 'cmap'",
     "output_type": "error",
     "traceback": [
      "\u001b[0;31m---------------------------------------------------------------------------\u001b[0m",
      "\u001b[0;31mTypeError\u001b[0m                                 Traceback (most recent call last)",
      "\u001b[0;32m<ipython-input-9-8b146a360e57>\u001b[0m in \u001b[0;36m<module>\u001b[0;34m\u001b[0m\n\u001b[1;32m      1\u001b[0m \u001b[0mcList\u001b[0m \u001b[0;34m=\u001b[0m \u001b[0mprocessData\u001b[0m\u001b[0;34m(\u001b[0m\u001b[0mgeoSlide\u001b[0m\u001b[0;34m.\u001b[0m\u001b[0mvalue\u001b[0m\u001b[0;34m,\u001b[0m \u001b[0mpopSlide\u001b[0m\u001b[0;34m.\u001b[0m\u001b[0mvalue\u001b[0m\u001b[0;34m,\u001b[0m \u001b[0mtranSlide\u001b[0m\u001b[0;34m.\u001b[0m\u001b[0mvalue\u001b[0m\u001b[0;34m)\u001b[0m\u001b[0;34m\u001b[0m\u001b[0;34m\u001b[0m\u001b[0m\n\u001b[0;32m----> 2\u001b[0;31m \u001b[0mdisplay\u001b[0m\u001b[0;34m(\u001b[0m\u001b[0mcList\u001b[0m\u001b[0;34m,\u001b[0m \u001b[0mcmap\u001b[0m\u001b[0;34m=\u001b[0m\u001b[0;34m'gray'\u001b[0m\u001b[0;34m)\u001b[0m\u001b[0;34m\u001b[0m\u001b[0;34m\u001b[0m\u001b[0m\n\u001b[0m\u001b[1;32m      3\u001b[0m \u001b[0mdisplay\u001b[0m\u001b[0;34m(\u001b[0m\u001b[0mpopSlide\u001b[0m\u001b[0;34m,\u001b[0m \u001b[0mgeoSlide\u001b[0m\u001b[0;34m,\u001b[0m \u001b[0mtranSlide\u001b[0m\u001b[0;34m,\u001b[0m \u001b[0mupdateButton\u001b[0m\u001b[0;34m,\u001b[0m \u001b[0mhighlightButton\u001b[0m\u001b[0;34m,\u001b[0m \u001b[0moutputButton\u001b[0m\u001b[0;34m)\u001b[0m\u001b[0;34m\u001b[0m\u001b[0;34m\u001b[0m\u001b[0m\n\u001b[1;32m      4\u001b[0m \u001b[0mupdateButton\u001b[0m\u001b[0;34m.\u001b[0m\u001b[0mon_click\u001b[0m\u001b[0;34m(\u001b[0m\u001b[0mon_updateButton_clicked\u001b[0m\u001b[0;34m)\u001b[0m\u001b[0;34m\u001b[0m\u001b[0;34m\u001b[0m\u001b[0m\n\u001b[1;32m      5\u001b[0m \u001b[0moutputButton\u001b[0m\u001b[0;34m.\u001b[0m\u001b[0mon_click\u001b[0m\u001b[0;34m(\u001b[0m\u001b[0mon_outputButton_clicked\u001b[0m\u001b[0;34m)\u001b[0m\u001b[0;34m\u001b[0m\u001b[0;34m\u001b[0m\u001b[0m\n",
      "\u001b[0;32m~/Applications/anaconda3/lib/python3.7/site-packages/IPython/core/display.py\u001b[0m in \u001b[0;36mdisplay\u001b[0;34m(include, exclude, metadata, transient, display_id, *objs, **kwargs)\u001b[0m\n\u001b[1;32m    318\u001b[0m                 \u001b[0;31m# kwarg-specified metadata gets precedence\u001b[0m\u001b[0;34m\u001b[0m\u001b[0;34m\u001b[0m\u001b[0;34m\u001b[0m\u001b[0m\n\u001b[1;32m    319\u001b[0m                 \u001b[0m_merge\u001b[0m\u001b[0;34m(\u001b[0m\u001b[0mmd_dict\u001b[0m\u001b[0;34m,\u001b[0m \u001b[0mmetadata\u001b[0m\u001b[0;34m)\u001b[0m\u001b[0;34m\u001b[0m\u001b[0;34m\u001b[0m\u001b[0m\n\u001b[0;32m--> 320\u001b[0;31m             \u001b[0mpublish_display_data\u001b[0m\u001b[0;34m(\u001b[0m\u001b[0mdata\u001b[0m\u001b[0;34m=\u001b[0m\u001b[0mformat_dict\u001b[0m\u001b[0;34m,\u001b[0m \u001b[0mmetadata\u001b[0m\u001b[0;34m=\u001b[0m\u001b[0mmd_dict\u001b[0m\u001b[0;34m,\u001b[0m \u001b[0;34m**\u001b[0m\u001b[0mkwargs\u001b[0m\u001b[0;34m)\u001b[0m\u001b[0;34m\u001b[0m\u001b[0;34m\u001b[0m\u001b[0m\n\u001b[0m\u001b[1;32m    321\u001b[0m     \u001b[0;32mif\u001b[0m \u001b[0mdisplay_id\u001b[0m\u001b[0;34m:\u001b[0m\u001b[0;34m\u001b[0m\u001b[0;34m\u001b[0m\u001b[0m\n\u001b[1;32m    322\u001b[0m         \u001b[0;32mreturn\u001b[0m \u001b[0mDisplayHandle\u001b[0m\u001b[0;34m(\u001b[0m\u001b[0mdisplay_id\u001b[0m\u001b[0;34m)\u001b[0m\u001b[0;34m\u001b[0m\u001b[0;34m\u001b[0m\u001b[0m\n",
      "\u001b[0;32m~/Applications/anaconda3/lib/python3.7/site-packages/IPython/core/display.py\u001b[0m in \u001b[0;36mpublish_display_data\u001b[0;34m(data, metadata, source, transient, **kwargs)\u001b[0m\n\u001b[1;32m    120\u001b[0m         \u001b[0mdata\u001b[0m\u001b[0;34m=\u001b[0m\u001b[0mdata\u001b[0m\u001b[0;34m,\u001b[0m\u001b[0;34m\u001b[0m\u001b[0;34m\u001b[0m\u001b[0m\n\u001b[1;32m    121\u001b[0m         \u001b[0mmetadata\u001b[0m\u001b[0;34m=\u001b[0m\u001b[0mmetadata\u001b[0m\u001b[0;34m,\u001b[0m\u001b[0;34m\u001b[0m\u001b[0;34m\u001b[0m\u001b[0m\n\u001b[0;32m--> 122\u001b[0;31m         \u001b[0;34m**\u001b[0m\u001b[0mkwargs\u001b[0m\u001b[0;34m\u001b[0m\u001b[0;34m\u001b[0m\u001b[0m\n\u001b[0m\u001b[1;32m    123\u001b[0m     )\n\u001b[1;32m    124\u001b[0m \u001b[0;34m\u001b[0m\u001b[0m\n",
      "\u001b[0;31mTypeError\u001b[0m: publish() got an unexpected keyword argument 'cmap'"
     ]
    }
   ],
   "source": [
    "cList = processData(geoSlide.value, popSlide.value, tranSlide.value) \n",
    "display(cList, cmap='gray')\n",
    "display(popSlide, geoSlide, tranSlide, updateButton, highlightButton, outputButton)\n",
    "updateButton.on_click(on_updateButton_clicked)\n",
    "outputButton.on_click(on_outputButton_clicked)\n",
    "highlightButton.on_click(on_highlightButton_clicked)"
   ]
  },
  {
   "cell_type": "code",
   "execution_count": null,
   "metadata": {},
   "outputs": [],
   "source": []
  }
 ],
 "metadata": {
  "kernelspec": {
   "display_name": "Python 3",
   "language": "python",
   "name": "python3"
  },
  "language_info": {
   "codemirror_mode": {
    "name": "ipython",
    "version": 3
   },
   "file_extension": ".py",
   "mimetype": "text/x-python",
   "name": "python",
   "nbconvert_exporter": "python",
   "pygments_lexer": "ipython3",
   "version": "3.7.3"
  }
 },
 "nbformat": 4,
 "nbformat_minor": 2
}
